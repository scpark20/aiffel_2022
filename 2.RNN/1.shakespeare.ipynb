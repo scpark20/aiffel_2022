{
 "cells": [
  {
   "cell_type": "code",
   "execution_count": 1,
   "id": "4e979fc0",
   "metadata": {},
   "outputs": [
    {
     "name": "stdout",
     "output_type": "stream",
     "text": [
      "Source 문장: <start> 나는 밥을 먹었다 \n",
      "Target 문장:  나는 밥을 먹었다 <end>\n"
     ]
    }
   ],
   "source": [
    "sentence = \" 나는 밥을 먹었다 \"\n",
    "\n",
    "source_sentence = \"<start>\" + sentence\n",
    "target_sentence = sentence + \"<end>\"\n",
    "\n",
    "print(\"Source 문장:\", source_sentence)\n",
    "print(\"Target 문장:\", target_sentence)"
   ]
  },
  {
   "cell_type": "code",
   "execution_count": 4,
   "id": "ecf1999d",
   "metadata": {},
   "outputs": [],
   "source": [
    "!mkdir -p ~/aiffel/lyricist/models\n",
    "!ln -s ~/data ~/aiffel/lyricist/data"
   ]
  },
  {
   "cell_type": "code",
   "execution_count": 5,
   "id": "17ccb409",
   "metadata": {},
   "outputs": [
    {
     "name": "stdout",
     "output_type": "stream",
     "text": [
      "['First Citizen:', 'Before we proceed any further, hear me speak.', '', 'All:', 'Speak, speak.', '', 'First Citizen:', 'You are all resolved rather to die than to famish?', '']\n"
     ]
    }
   ],
   "source": [
    "import os, re \n",
    "import numpy as np\n",
    "import tensorflow as tf\n",
    "\n",
    "# 파일을 읽기모드로 열고\n",
    "# 라인 단위로 끊어서 list 형태로 읽어옵니다.\n",
    "file_path = os.getenv('HOME') + '/aiffel/lyricist/data/shakespeare.txt'\n",
    "with open(file_path, \"r\") as f:\n",
    "    raw_corpus = f.read().splitlines()\n",
    "\n",
    "# 앞에서부터 10라인만 화면에 출력해 볼까요?\n",
    "print(raw_corpus[:9])"
   ]
  },
  {
   "cell_type": "code",
   "execution_count": 7,
   "id": "05f11a87",
   "metadata": {},
   "outputs": [
    {
     "name": "stdout",
     "output_type": "stream",
     "text": [
      "Before we proceed any further, hear me speak.\n",
      "Speak, speak.\n",
      "You are all resolved rather to die than to famish?\n"
     ]
    }
   ],
   "source": [
    "for idx, sentence in enumerate(raw_corpus):\n",
    "    if len(sentence) == 0: continue   # 길이가 0인 문장은 건너뜁니다.\n",
    "    if sentence[-1] == \":\": continue  # 문장의 끝이 : 인 문장은 건너뜁니다.\n",
    "\n",
    "    if idx > 9: break   # 일단 문장 10개만 확인해 볼 겁니다.\n",
    "        \n",
    "    print(sentence)"
   ]
  },
  {
   "cell_type": "code",
   "execution_count": 8,
   "id": "aed33790",
   "metadata": {},
   "outputs": [
    {
     "name": "stdout",
     "output_type": "stream",
     "text": [
      "<start> this is sample sentence . <end>\n"
     ]
    }
   ],
   "source": [
    "# 입력된 문장을\n",
    "#     1. 소문자로 바꾸고, 양쪽 공백을 지웁니다\n",
    "#     2. 특수문자 양쪽에 공백을 넣고\n",
    "#     3. 여러개의 공백은 하나의 공백으로 바꿉니다\n",
    "#     4. a-zA-Z?.!,¿가 아닌 모든 문자를 하나의 공백으로 바꿉니다\n",
    "#     5. 다시 양쪽 공백을 지웁니다\n",
    "#     6. 문장 시작에는 <start>, 끝에는 <end>를 추가합니다\n",
    "# 이 순서로 처리해주면 문제가 되는 상황을 방지할 수 있겠네요!\n",
    "def preprocess_sentence(sentence):\n",
    "    sentence = sentence.lower().strip() # 1\n",
    "    sentence = re.sub(r\"([?.!,¿])\", r\" \\1 \", sentence) # 2\n",
    "    sentence = re.sub(r'[\" \"]+', \" \", sentence) # 3\n",
    "    sentence = re.sub(r\"[^a-zA-Z?.!,¿]+\", \" \", sentence) # 4\n",
    "    sentence = sentence.strip() # 5\n",
    "    sentence = '<start> ' + sentence + ' <end>' # 6\n",
    "    return sentence\n",
    "\n",
    "# 이 문장이 어떻게 필터링되는지 확인해 보세요.\n",
    "print(preprocess_sentence(\"This @_is ;;;sample        sentence.\"))"
   ]
  },
  {
   "cell_type": "code",
   "execution_count": 9,
   "id": "59fca283",
   "metadata": {},
   "outputs": [
    {
     "data": {
      "text/plain": [
       "['<start> before we proceed any further , hear me speak . <end>',\n",
       " '<start> speak , speak . <end>',\n",
       " '<start> you are all resolved rather to die than to famish ? <end>',\n",
       " '<start> resolved . resolved . <end>',\n",
       " '<start> first , you know caius marcius is chief enemy to the people . <end>',\n",
       " '<start> we know t , we know t . <end>',\n",
       " '<start> let us kill him , and we ll have corn at our own price . <end>',\n",
       " '<start> is t a verdict ? <end>',\n",
       " '<start> no more talking on t let it be done away , away ! <end>',\n",
       " '<start> one word , good citizens . <end>']"
      ]
     },
     "execution_count": 9,
     "metadata": {},
     "output_type": "execute_result"
    }
   ],
   "source": [
    "# 여기에 정제된 문장을 모을겁니다\n",
    "corpus = []\n",
    "\n",
    "for sentence in raw_corpus:\n",
    "    # 우리가 원하지 않는 문장은 건너뜁니다\n",
    "    if len(sentence) == 0: continue\n",
    "    if sentence[-1] == \":\": continue\n",
    "    \n",
    "    # 정제를 하고 담아주세요\n",
    "    preprocessed_sentence = preprocess_sentence(sentence)\n",
    "    corpus.append(preprocessed_sentence)\n",
    "        \n",
    "# 정제된 결과를 10개만 확인해보죠\n",
    "corpus[:10]"
   ]
  },
  {
   "cell_type": "code",
   "execution_count": 10,
   "id": "e44aba92",
   "metadata": {},
   "outputs": [
    {
     "name": "stdout",
     "output_type": "stream",
     "text": [
      "[[   2  143   40 ...    0    0    0]\n",
      " [   2  110    4 ...    0    0    0]\n",
      " [   2   11   50 ...    0    0    0]\n",
      " ...\n",
      " [   2  149 4553 ...    0    0    0]\n",
      " [   2   34   71 ...    0    0    0]\n",
      " [   2  945   34 ...    0    0    0]] <keras_preprocessing.text.Tokenizer object at 0x7f8ecda57940>\n"
     ]
    }
   ],
   "source": [
    "# 토큰화 할 때 텐서플로우의 Tokenizer와 pad_sequences를 사용합니다\n",
    "# 더 잘 알기 위해 아래 문서들을 참고하면 좋습니다\n",
    "# https://www.tensorflow.org/api_docs/python/tf/keras/preprocessing/text/Tokenizer\n",
    "# https://www.tensorflow.org/api_docs/python/tf/keras/preprocessing/sequence/pad_sequences\n",
    "def tokenize(corpus):\n",
    "    # 7000단어를 기억할 수 있는 tokenizer를 만들겁니다\n",
    "    # 우리는 이미 문장을 정제했으니 filters가 필요없어요\n",
    "    # 7000단어에 포함되지 못한 단어는 '<unk>'로 바꿀거에요\n",
    "    tokenizer = tf.keras.preprocessing.text.Tokenizer(\n",
    "        num_words=7000, \n",
    "        filters=' ',\n",
    "        oov_token=\"<unk>\"\n",
    "    )\n",
    "    # corpus를 이용해 tokenizer 내부의 단어장을 완성합니다\n",
    "    tokenizer.fit_on_texts(corpus)\n",
    "    # 준비한 tokenizer를 이용해 corpus를 Tensor로 변환합니다\n",
    "    tensor = tokenizer.texts_to_sequences(corpus)   \n",
    "    # 입력 데이터의 시퀀스 길이를 일정하게 맞춰줍니다\n",
    "    # 만약 시퀀스가 짧다면 문장 뒤에 패딩을 붙여 길이를 맞춰줍니다.\n",
    "    # 문장 앞에 패딩을 붙여 길이를 맞추고 싶다면 padding='pre'를 사용합니다\n",
    "    tensor = tf.keras.preprocessing.sequence.pad_sequences(tensor, padding='post')  \n",
    "    \n",
    "    print(tensor,tokenizer)\n",
    "    return tensor, tokenizer\n",
    "\n",
    "tensor, tokenizer = tokenize(corpus)"
   ]
  },
  {
   "cell_type": "code",
   "execution_count": 11,
   "id": "e6645e98",
   "metadata": {},
   "outputs": [
    {
     "name": "stdout",
     "output_type": "stream",
     "text": [
      "[[   2  143   40  933  140  591    4  124   24  110]\n",
      " [   2  110    4  110    5    3    0    0    0    0]\n",
      " [   2   11   50   43 1201  316    9  201   74    9]]\n"
     ]
    }
   ],
   "source": [
    "print(tensor[:3, :10])"
   ]
  },
  {
   "cell_type": "code",
   "execution_count": 12,
   "id": "c616a111",
   "metadata": {},
   "outputs": [
    {
     "name": "stdout",
     "output_type": "stream",
     "text": [
      "1 : <unk>\n",
      "2 : <start>\n",
      "3 : <end>\n",
      "4 : ,\n",
      "5 : .\n",
      "6 : the\n",
      "7 : and\n",
      "8 : i\n",
      "9 : to\n",
      "10 : of\n"
     ]
    }
   ],
   "source": [
    "for idx in tokenizer.index_word:\n",
    "    print(idx, \":\", tokenizer.index_word[idx])\n",
    "\n",
    "    if idx >= 10: break"
   ]
  },
  {
   "cell_type": "code",
   "execution_count": 13,
   "id": "168a410f",
   "metadata": {},
   "outputs": [
    {
     "name": "stdout",
     "output_type": "stream",
     "text": [
      "[  2 143  40 933 140 591   4 124  24 110   5   3   0   0   0   0   0   0\n",
      "   0   0]\n",
      "[143  40 933 140 591   4 124  24 110   5   3   0   0   0   0   0   0   0\n",
      "   0   0]\n"
     ]
    }
   ],
   "source": [
    "# tensor에서 마지막 토큰을 잘라내서 소스 문장을 생성합니다\n",
    "# 마지막 토큰은 <end>가 아니라 <pad>일 가능성이 높습니다.\n",
    "src_input = tensor[:, :-1]  \n",
    "# tensor에서 <start>를 잘라내서 타겟 문장을 생성합니다.\n",
    "tgt_input = tensor[:, 1:]    \n",
    "\n",
    "print(src_input[0])\n",
    "print(tgt_input[0])"
   ]
  },
  {
   "cell_type": "code",
   "execution_count": 14,
   "id": "26bd0ce9",
   "metadata": {},
   "outputs": [
    {
     "data": {
      "text/plain": [
       "<BatchDataset shapes: ((256, 20), (256, 20)), types: (tf.int32, tf.int32)>"
      ]
     },
     "execution_count": 14,
     "metadata": {},
     "output_type": "execute_result"
    }
   ],
   "source": [
    "BUFFER_SIZE = len(src_input)\n",
    "BATCH_SIZE = 256\n",
    "steps_per_epoch = len(src_input) // BATCH_SIZE\n",
    "\n",
    " # tokenizer가 구축한 단어사전 내 7000개와, 여기 포함되지 않은 0:<pad>를 포함하여 7001개\n",
    "VOCAB_SIZE = tokenizer.num_words + 1   \n",
    "\n",
    "# 준비한 데이터 소스로부터 데이터셋을 만듭니다\n",
    "# 데이터셋에 대해서는 아래 문서를 참고하세요\n",
    "# 자세히 알아둘수록 도움이 많이 되는 중요한 문서입니다\n",
    "# https://www.tensorflow.org/api_docs/python/tf/data/Dataset\n",
    "dataset = tf.data.Dataset.from_tensor_slices((src_input, tgt_input))\n",
    "dataset = dataset.shuffle(BUFFER_SIZE)\n",
    "dataset = dataset.batch(BATCH_SIZE, drop_remainder=True)\n",
    "dataset"
   ]
  },
  {
   "cell_type": "code",
   "execution_count": 15,
   "id": "619f8b48",
   "metadata": {},
   "outputs": [],
   "source": [
    "class TextGenerator(tf.keras.Model):\n",
    "    def __init__(self, vocab_size, embedding_size, hidden_size):\n",
    "        super().__init__()\n",
    "        \n",
    "        self.embedding = tf.keras.layers.Embedding(vocab_size, embedding_size)\n",
    "        self.rnn_1 = tf.keras.layers.LSTM(hidden_size, return_sequences=True)\n",
    "        self.rnn_2 = tf.keras.layers.LSTM(hidden_size, return_sequences=True)\n",
    "        self.linear = tf.keras.layers.Dense(vocab_size)\n",
    "        \n",
    "    def call(self, x):\n",
    "        out = self.embedding(x)\n",
    "        out = self.rnn_1(out)\n",
    "        out = self.rnn_2(out)\n",
    "        out = self.linear(out)\n",
    "        \n",
    "        return out\n",
    "    \n",
    "embedding_size = 256\n",
    "hidden_size = 1024\n",
    "model = TextGenerator(tokenizer.num_words + 1, embedding_size , hidden_size)"
   ]
  },
  {
   "cell_type": "code",
   "execution_count": 16,
   "id": "12c79a5d",
   "metadata": {
    "scrolled": true
   },
   "outputs": [
    {
     "data": {
      "text/plain": [
       "<tf.Tensor: shape=(256, 20, 7001), dtype=float32, numpy=\n",
       "array([[[-1.3179920e-04,  4.3112625e-04,  1.7733422e-04, ...,\n",
       "          4.7919154e-04,  3.5584613e-04,  1.6488510e-04],\n",
       "        [-1.6760718e-04,  5.2249798e-04,  2.0081090e-04, ...,\n",
       "          7.6731312e-04,  2.5204828e-04,  8.7056062e-05],\n",
       "        [-1.8399084e-04,  4.2993797e-04,  1.9398194e-05, ...,\n",
       "          7.1768690e-04, -1.3588673e-04, -1.2618431e-04],\n",
       "        ...,\n",
       "        [ 2.6192686e-03, -5.7909475e-04, -1.5426172e-03, ...,\n",
       "         -1.7788219e-03, -4.0030982e-03, -1.2506413e-03],\n",
       "        [ 2.8896614e-03, -1.1001563e-03, -1.3387356e-03, ...,\n",
       "         -1.7996837e-03, -4.2759478e-03, -1.1390159e-03],\n",
       "        [ 3.0859248e-03, -1.5871967e-03, -1.1230359e-03, ...,\n",
       "         -1.8257822e-03, -4.5235297e-03, -1.0320701e-03]],\n",
       "\n",
       "       [[-1.3179920e-04,  4.3112625e-04,  1.7733422e-04, ...,\n",
       "          4.7919154e-04,  3.5584613e-04,  1.6488510e-04],\n",
       "        [-1.9964356e-04,  5.1158527e-04,  7.0199356e-05, ...,\n",
       "          5.6255516e-04,  1.6974498e-04,  1.4871721e-04],\n",
       "        [-2.2216747e-04,  4.2333294e-04,  2.5695638e-06, ...,\n",
       "          3.9171384e-04, -6.9577130e-05, -1.3631696e-04],\n",
       "        ...,\n",
       "        [ 2.9121349e-03, -9.6129393e-04, -8.8738615e-04, ...,\n",
       "         -9.2245417e-04, -3.6405982e-03, -5.6158780e-04],\n",
       "        [ 3.1348702e-03, -1.4125727e-03, -7.7895366e-04, ...,\n",
       "         -1.0180750e-03, -4.0126219e-03, -5.7410751e-04],\n",
       "        [ 3.2936959e-03, -1.8431642e-03, -6.5716018e-04, ...,\n",
       "         -1.1197708e-03, -4.3411138e-03, -5.7089678e-04]],\n",
       "\n",
       "       [[-1.3179920e-04,  4.3112625e-04,  1.7733422e-04, ...,\n",
       "          4.7919154e-04,  3.5584613e-04,  1.6488510e-04],\n",
       "        [-3.0044717e-04,  4.9372640e-04,  5.0726754e-04, ...,\n",
       "          9.1182627e-04,  5.2111706e-04, -1.4056923e-04],\n",
       "        [-4.8821120e-04,  7.0864439e-04,  7.8590651e-04, ...,\n",
       "          1.2575428e-03,  3.6149507e-04, -2.9087623e-04],\n",
       "        ...,\n",
       "        [ 3.4665233e-03, -3.5472792e-03, -8.5000407e-05, ...,\n",
       "         -1.2816228e-03, -4.8749279e-03, -4.2740276e-04],\n",
       "        [ 3.4390707e-03, -3.7489142e-03, -1.9965782e-05, ...,\n",
       "         -1.4094881e-03, -5.0472855e-03, -3.9945901e-04],\n",
       "        [ 3.4056504e-03, -3.9285673e-03,  4.0479848e-05, ...,\n",
       "         -1.5223417e-03, -5.1903268e-03, -3.7518787e-04]],\n",
       "\n",
       "       ...,\n",
       "\n",
       "       [[-1.3179920e-04,  4.3112625e-04,  1.7733422e-04, ...,\n",
       "          4.7919154e-04,  3.5584613e-04,  1.6488510e-04],\n",
       "        [-4.2029889e-04,  6.5398251e-04,  1.9026888e-04, ...,\n",
       "          9.4411237e-04,  3.6978553e-04, -8.6016022e-05],\n",
       "        [-3.1125033e-04,  1.1494119e-03,  2.8730030e-04, ...,\n",
       "          1.4111884e-03,  2.5279593e-04, -3.1545403e-04],\n",
       "        ...,\n",
       "        [ 2.1901927e-03, -7.5673568e-04, -1.0538435e-03, ...,\n",
       "         -1.3790957e-03, -3.3445752e-03, -5.6128454e-04],\n",
       "        [ 2.4760838e-03, -1.2112595e-03, -9.3536847e-04, ...,\n",
       "         -1.4236051e-03, -3.7364441e-03, -5.2767113e-04],\n",
       "        [ 2.6957076e-03, -1.6482234e-03, -8.0797815e-04, ...,\n",
       "         -1.4760089e-03, -4.0835259e-03, -4.9313746e-04]],\n",
       "\n",
       "       [[-1.3179920e-04,  4.3112625e-04,  1.7733422e-04, ...,\n",
       "          4.7919154e-04,  3.5584613e-04,  1.6488510e-04],\n",
       "        [-2.4564064e-04,  5.9534929e-04,  4.3969112e-04, ...,\n",
       "          5.5290677e-04,  2.7437191e-04,  5.4887027e-05],\n",
       "        [-4.5869438e-04,  4.4977519e-04,  4.7311620e-04, ...,\n",
       "          5.8955088e-04,  9.8398159e-05, -1.5034732e-06],\n",
       "        ...,\n",
       "        [ 2.8952411e-03, -2.4500675e-03, -4.6099015e-04, ...,\n",
       "         -1.5374698e-03, -4.3218266e-03, -1.1605741e-03],\n",
       "        [ 3.0161629e-03, -2.7370793e-03, -3.5230606e-04, ...,\n",
       "         -1.6000480e-03, -4.6054241e-03, -1.0698290e-03],\n",
       "        [ 3.0978681e-03, -3.0072236e-03, -2.4446618e-04, ...,\n",
       "         -1.6615539e-03, -4.8481096e-03, -9.8078651e-04]],\n",
       "\n",
       "       [[-1.3179920e-04,  4.3112625e-04,  1.7733422e-04, ...,\n",
       "          4.7919154e-04,  3.5584613e-04,  1.6488510e-04],\n",
       "        [-1.9762498e-04,  5.4808549e-04,  2.3550501e-04, ...,\n",
       "          5.1690405e-04,  4.3272419e-04, -6.5261549e-05],\n",
       "        [-6.5899821e-04,  7.9220498e-04,  5.7173631e-04, ...,\n",
       "          8.7190041e-04,  5.4094195e-04, -3.8698927e-04],\n",
       "        ...,\n",
       "        [ 3.2455565e-03, -2.5248616e-03, -3.9840312e-04, ...,\n",
       "         -5.8752188e-04, -4.2505516e-03, -9.1702165e-04],\n",
       "        [ 3.3304186e-03, -2.8393620e-03, -3.1001237e-04, ...,\n",
       "         -7.5719401e-04, -4.5511369e-03, -8.4723759e-04],\n",
       "        [ 3.3778416e-03, -3.1295887e-03, -2.1487429e-04, ...,\n",
       "         -9.2179771e-04, -4.8066033e-03, -7.7483087e-04]]], dtype=float32)>"
      ]
     },
     "execution_count": 16,
     "metadata": {},
     "output_type": "execute_result"
    }
   ],
   "source": [
    "# 데이터셋에서 데이터 한 배치만 불러오는 방법입니다.\n",
    "# 지금은 동작 원리에 너무 빠져들지 마세요~\n",
    "for src_sample, tgt_sample in dataset.take(1): break\n",
    "\n",
    "# 한 배치만 불러온 데이터를 모델에 넣어봅니다\n",
    "model(src_sample)"
   ]
  },
  {
   "cell_type": "code",
   "execution_count": 17,
   "id": "2ba562b7",
   "metadata": {},
   "outputs": [
    {
     "name": "stdout",
     "output_type": "stream",
     "text": [
      "Model: \"text_generator\"\n",
      "_________________________________________________________________\n",
      "Layer (type)                 Output Shape              Param #   \n",
      "=================================================================\n",
      "embedding (Embedding)        multiple                  1792256   \n",
      "_________________________________________________________________\n",
      "lstm (LSTM)                  multiple                  5246976   \n",
      "_________________________________________________________________\n",
      "lstm_1 (LSTM)                multiple                  8392704   \n",
      "_________________________________________________________________\n",
      "dense (Dense)                multiple                  7176025   \n",
      "=================================================================\n",
      "Total params: 22,607,961\n",
      "Trainable params: 22,607,961\n",
      "Non-trainable params: 0\n",
      "_________________________________________________________________\n"
     ]
    }
   ],
   "source": [
    "model.summary()"
   ]
  },
  {
   "cell_type": "code",
   "execution_count": 21,
   "id": "93631829",
   "metadata": {},
   "outputs": [
    {
     "name": "stdout",
     "output_type": "stream",
     "text": [
      "Epoch 1/30\n",
      "93/93 [==============================] - 18s 175ms/step - loss: 2.8313\n",
      "Epoch 2/30\n",
      "93/93 [==============================] - 17s 181ms/step - loss: 2.6231\n",
      "Epoch 3/30\n",
      "93/93 [==============================] - 18s 188ms/step - loss: 2.5125\n",
      "Epoch 4/30\n",
      "93/93 [==============================] - 18s 194ms/step - loss: 2.4225\n",
      "Epoch 5/30\n",
      "93/93 [==============================] - 19s 201ms/step - loss: 2.3298\n",
      "Epoch 6/30\n",
      "93/93 [==============================] - 19s 203ms/step - loss: 2.2382\n",
      "Epoch 7/30\n",
      "93/93 [==============================] - 18s 199ms/step - loss: 2.1475\n",
      "Epoch 8/30\n",
      "93/93 [==============================] - 18s 196ms/step - loss: 2.0569\n",
      "Epoch 9/30\n",
      "93/93 [==============================] - 18s 198ms/step - loss: 1.96331s - loss:\n",
      "Epoch 10/30\n",
      "93/93 [==============================] - 19s 200ms/step - loss: 1.8708\n",
      "Epoch 11/30\n",
      "93/93 [==============================] - 19s 200ms/step - loss: 1.7783\n",
      "Epoch 12/30\n",
      "93/93 [==============================] - 19s 200ms/step - loss: 1.6902\n",
      "Epoch 13/30\n",
      "93/93 [==============================] - 19s 200ms/step - loss: 1.6021\n",
      "Epoch 14/30\n",
      "93/93 [==============================] - 19s 200ms/step - loss: 1.5162\n",
      "Epoch 15/30\n",
      "93/93 [==============================] - 19s 200ms/step - loss: 1.4343\n",
      "Epoch 16/30\n",
      "93/93 [==============================] - 19s 199ms/step - loss: 1.3549\n",
      "Epoch 17/30\n",
      "93/93 [==============================] - 19s 199ms/step - loss: 1.2765\n",
      "Epoch 18/30\n",
      "93/93 [==============================] - 19s 199ms/step - loss: 1.2017\n",
      "Epoch 19/30\n",
      "93/93 [==============================] - 19s 199ms/step - loss: 1.1296\n",
      "Epoch 20/30\n",
      "93/93 [==============================] - 19s 199ms/step - loss: 1.0610\n",
      "Epoch 21/30\n",
      "93/93 [==============================] - 19s 199ms/step - loss: 0.9965\n",
      "Epoch 22/30\n",
      "93/93 [==============================] - 19s 199ms/step - loss: 0.9384\n",
      "Epoch 23/30\n",
      "93/93 [==============================] - 19s 199ms/step - loss: 0.8844\n",
      "Epoch 24/30\n",
      "93/93 [==============================] - 19s 199ms/step - loss: 0.8372\n",
      "Epoch 25/30\n",
      "93/93 [==============================] - 19s 199ms/step - loss: 0.7970\n",
      "Epoch 26/30\n",
      "93/93 [==============================] - 19s 199ms/step - loss: 0.7625\n",
      "Epoch 27/30\n",
      "93/93 [==============================] - 19s 200ms/step - loss: 0.7343\n",
      "Epoch 28/30\n",
      "93/93 [==============================] - 19s 201ms/step - loss: 0.7107\n",
      "Epoch 29/30\n",
      "93/93 [==============================] - 19s 202ms/step - loss: 0.6904\n",
      "Epoch 30/30\n",
      "93/93 [==============================] - 19s 202ms/step - loss: 0.6740\n"
     ]
    },
    {
     "data": {
      "text/plain": [
       "<keras.callbacks.History at 0x7f8e10602cd0>"
      ]
     },
     "execution_count": 21,
     "metadata": {},
     "output_type": "execute_result"
    }
   ],
   "source": [
    "# optimizer와 loss등은 차차 배웁니다\n",
    "# 혹시 미리 알고 싶다면 아래 문서를 참고하세요\n",
    "# https://www.tensorflow.org/api_docs/python/tf/keras/optimizers\n",
    "# https://www.tensorflow.org/api_docs/python/tf/keras/losses\n",
    "# 양이 상당히 많은 편이니 지금 보는 것은 추천하지 않습니다\n",
    "optimizer = tf.keras.optimizers.Adam()\n",
    "loss = tf.keras.losses.SparseCategoricalCrossentropy(\n",
    "    from_logits=True,\n",
    "    reduction='none'\n",
    ")\n",
    "\n",
    "model.compile(loss=loss, optimizer=optimizer)\n",
    "model.fit(dataset, epochs=30)"
   ]
  },
  {
   "cell_type": "code",
   "execution_count": 26,
   "id": "dedcec4e",
   "metadata": {},
   "outputs": [],
   "source": [
    "def generate_text(model, tokenizer, init_sentence=\"<start>\", max_len=20):\n",
    "    # 테스트를 위해서 입력받은 init_sentence도 텐서로 변환합니다\n",
    "    test_input = tokenizer.texts_to_sequences([init_sentence])\n",
    "    test_tensor = tf.convert_to_tensor(test_input, dtype=tf.int64)\n",
    "    end_token = tokenizer.word_index[\"<end>\"]\n",
    "\n",
    "    # 단어 하나씩 예측해 문장을 만듭니다\n",
    "    #    1. 입력받은 문장의 텐서를 입력합니다\n",
    "    #    2. 예측된 값 중 가장 높은 확률인 word index를 뽑아냅니다\n",
    "    #    3. 2에서 예측된 word index를 문장 뒤에 붙입니다\n",
    "    #    4. 모델이 <end>를 예측했거나, max_len에 도달했다면 문장 생성을 마칩니다\n",
    "    while True:\n",
    "        # 1\n",
    "        predict = model(test_tensor) \n",
    "        # 2\n",
    "        predict_word = tf.argmax(tf.nn.softmax(predict, axis=-1), axis=-1)[:, -1] \n",
    "        # 3 \n",
    "        test_tensor = tf.concat([test_tensor, tf.expand_dims(predict_word, axis=0)], axis=-1)\n",
    "        # 4\n",
    "        if predict_word.numpy()[0] == end_token: break\n",
    "        if test_tensor.shape[1] >= max_len: break\n",
    "\n",
    "    generated = \"\"\n",
    "    # tokenizer를 이용해 word index를 단어로 하나씩 변환합니다 \n",
    "    for word_index in test_tensor[0].numpy():\n",
    "        generated += tokenizer.index_word[word_index] + \" \"\n",
    "\n",
    "    return generated"
   ]
  },
  {
   "cell_type": "code",
   "execution_count": 36,
   "id": "5eac3919",
   "metadata": {},
   "outputs": [
    {
     "data": {
      "text/plain": [
       "'<start> good my lord , <end> '"
      ]
     },
     "execution_count": 36,
     "metadata": {},
     "output_type": "execute_result"
    }
   ],
   "source": [
    "generate_text(model, tokenizer, init_sentence=\"<start> good\")"
   ]
  },
  {
   "cell_type": "code",
   "execution_count": null,
   "id": "ed7522d6",
   "metadata": {},
   "outputs": [],
   "source": []
  }
 ],
 "metadata": {
  "kernelspec": {
   "display_name": "Python 3 (ipykernel)",
   "language": "python",
   "name": "python3"
  },
  "language_info": {
   "codemirror_mode": {
    "name": "ipython",
    "version": 3
   },
   "file_extension": ".py",
   "mimetype": "text/x-python",
   "name": "python",
   "nbconvert_exporter": "python",
   "pygments_lexer": "ipython3",
   "version": "3.9.7"
  }
 },
 "nbformat": 4,
 "nbformat_minor": 5
}
